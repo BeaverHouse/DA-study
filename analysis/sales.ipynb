{
 "cells": [
  {
   "cell_type": "markdown",
   "metadata": {},
   "source": [
    "### 고객 분석\n",
    "※ Output은 지운 상태입니다.\n",
    "\n",
    "**EDA 보기 전**  \n",
    "기초부터...\n",
    "\n",
    "0-1. `.csv` 파일 읽기"
   ]
  },
  {
   "cell_type": "code",
   "execution_count": null,
   "metadata": {},
   "outputs": [],
   "source": [
    "import pandas as pd\n",
    "\n",
    "# Warning 방지\n",
    "data_type = {\n",
    "    \"고객번호\": str\n",
    "}\n",
    "\n",
    "members = pd.read_csv('../data/members.csv', dtype=data_type)\n",
    "members.head()"
   ]
  },
  {
   "cell_type": "code",
   "execution_count": null,
   "metadata": {},
   "outputs": [],
   "source": [
    "members.dtypes"
   ]
  },
  {
   "cell_type": "markdown",
   "metadata": {},
   "source": [
    "0-2. 연령별 히스토그램"
   ]
  },
  {
   "cell_type": "code",
   "execution_count": null,
   "metadata": {},
   "outputs": [],
   "source": [
    "members = members.dropna()\n",
    "ages = members[\"연령\"]\n",
    "ages"
   ]
  },
  {
   "cell_type": "code",
   "execution_count": null,
   "metadata": {},
   "outputs": [],
   "source": [
    "from matplotlib import pyplot as plt\n",
    "\n",
    "plt.hist(ages, bins=range(5, 75, 1))\n",
    "plt.xlabel('Age')\n",
    "plt.ylabel('Count')\n",
    "plt.show()"
   ]
  },
  {
   "cell_type": "markdown",
   "metadata": {},
   "source": [
    "0-2-a. 30대가 많은데 몇 퍼센트나 될까? "
   ]
  },
  {
   "cell_type": "code",
   "execution_count": null,
   "metadata": {},
   "outputs": [],
   "source": [
    "# 30 ~ 39세\n",
    "ages.loc[(30 <= ages) & (ages <= 39)].size / ages.size * 100"
   ]
  },
  {
   "cell_type": "markdown",
   "metadata": {},
   "source": [
    "0-2. 연령과 구매력 분포도"
   ]
  },
  {
   "cell_type": "code",
   "execution_count": null,
   "metadata": {},
   "outputs": [],
   "source": [
    "import pandas as pd\n",
    "\n",
    "# Warning 방지\n",
    "data_type = {\n",
    "    \"주문번호\": str,\n",
    "    \"고객번호\": str\n",
    "}\n",
    "\n",
    "sales = pd.read_csv('../data/sales.csv', dtype=data_type)\n",
    "sales.head()"
   ]
  },
  {
   "cell_type": "code",
   "execution_count": null,
   "metadata": {},
   "outputs": [],
   "source": [
    "# 고객번호별 구매금액\n",
    "user_overall_costs = sales.groupby(\"고객번호\")[\"구매금액\"].sum()\n",
    "user_overall_costs"
   ]
  },
  {
   "cell_type": "code",
   "execution_count": null,
   "metadata": {},
   "outputs": [],
   "source": [
    "# 고객 테이블과 병합\n",
    "joined = pd.merge(left=user_overall_costs, right=members.dropna(), how='inner', on=\"고객번호\")\n",
    "joined"
   ]
  },
  {
   "cell_type": "code",
   "execution_count": null,
   "metadata": {},
   "outputs": [],
   "source": [
    "# 2차원 히트맵 생성\n",
    "plt.figure(figsize=(8, 6))\n",
    "plt.scatter(joined[\"연령\"], joined[\"구매금액\"], s=100)\n",
    "plt.xlabel('Age')\n",
    "plt.ylabel('Buy cost')\n",
    "plt.grid(True)\n",
    "plt.show()"
   ]
  },
  {
   "cell_type": "markdown",
   "metadata": {},
   "source": [
    "이것으로는 관계를 찾기 힘들 것 같다.."
   ]
  },
  {
   "cell_type": "markdown",
   "metadata": {},
   "source": [
    "0-3. 단순 분석"
   ]
  },
  {
   "cell_type": "code",
   "execution_count": null,
   "metadata": {},
   "outputs": [],
   "source": [
    "# 카테고리 바꿔 가면서 체크\n",
    "members.groupby(\"성별\").count()"
   ]
  },
  {
   "cell_type": "code",
   "execution_count": null,
   "metadata": {},
   "outputs": [],
   "source": [
    "# 2중 카테고리\n",
    "members.groupby([\"성별\", \"결혼유무\"]).count()"
   ]
  },
  {
   "cell_type": "code",
   "execution_count": null,
   "metadata": {},
   "outputs": [],
   "source": [
    "# 기혼자 중 자녀여부 비율 확인\n",
    "married_baby = members[(members[\"결혼유무\"] == \"기혼\") & (members[\"자녀여부\"] == \"Yes\")]\n",
    "married = members[members[\"결혼유무\"] == \"기혼\"]\n",
    "\n",
    "married_baby.size / married.size * 100"
   ]
  },
  {
   "cell_type": "code",
   "execution_count": null,
   "metadata": {},
   "outputs": [],
   "source": [
    "nonmarried_baby = members[(members[\"결혼유무\"] == \"미혼\") & (members[\"자녀여부\"] == \"Yes\")]\n",
    "nonmarried_baby.size"
   ]
  },
  {
   "cell_type": "code",
   "execution_count": null,
   "metadata": {},
   "outputs": [],
   "source": [
    "# 특정 상품을 구매한 고객\n",
    "haggis = sales[sales[\"상품명\"].str.contains(\"하기스\")]\n",
    "haggis.size / sales.size * 100"
   ]
  },
  {
   "cell_type": "code",
   "execution_count": null,
   "metadata": {},
   "outputs": [],
   "source": [
    "# 그 중 자녀를 가진 고객이 구매한 비율\n",
    "baby_bought = haggis[haggis[\"고객번호\"].isin(married_baby[\"고객번호\"])]\n",
    "baby_bought.size / haggis.size * 100"
   ]
  },
  {
   "cell_type": "markdown",
   "metadata": {},
   "source": [
    "**이후 EDA를 보고 오긴 했음...**"
   ]
  },
  {
   "cell_type": "code",
   "execution_count": null,
   "metadata": {},
   "outputs": [],
   "source": [
    "members[\"연령\"].describe()"
   ]
  },
  {
   "cell_type": "markdown",
   "metadata": {},
   "source": [
    "1-1. 기혼 여부와 남성 비율"
   ]
  },
  {
   "cell_type": "code",
   "execution_count": null,
   "metadata": {},
   "outputs": [],
   "source": [
    "pd.crosstab(index = members['성별'], columns = members['결혼유무'])"
   ]
  },
  {
   "cell_type": "code",
   "execution_count": null,
   "metadata": {},
   "outputs": [],
   "source": [
    "import scipy.stats\n",
    "\n",
    "\"\"\"\n",
    "변수의 독립 여부 확인\n",
    "귀무가설: 잠정적으로 옳은 가설, 기존의 가설. 보통 보수적으로 채택\n",
    "  - 독립성 테스트의 경우, \"변수 간 독립성이 없다\"가 귀무가설\n",
    "대립가설: 증명하고자 하는 가설. 귀무가설과 반대, \n",
    "  - 독립성 테스트의 경우, \"변수 간 독립성이 있다\"가 대립가설\n",
    "  \n",
    "p는 P-value인데 이것이 0.05보다 작으면 보통 귀무가설을 채택하여 독립이 아니라고 판단한다.\n",
    "\"\"\"\n",
    "def click_abtest(a_selected, total_a, b_selected, total_b):\n",
    "    selected = [a_selected, b_selected]\n",
    "    no_selected = [total_a-a_selected, total_b-b_selected]\n",
    "    chi2, p, dof, expected = scipy.stats.chi2_contingency([selected, no_selected])\n",
    "    return p\n",
    "\n",
    "print(click_abtest(2099, 2099+66430, 397, 397+12168))"
   ]
  },
  {
   "cell_type": "markdown",
   "metadata": {},
   "source": [
    "0.05보다 훨씬 큰 값으로 관련이 없다."
   ]
  },
  {
   "cell_type": "markdown",
   "metadata": {},
   "source": [
    "1-2. 기혼과 특정 상품 구매 여부"
   ]
  },
  {
   "cell_type": "code",
   "execution_count": null,
   "metadata": {},
   "outputs": [],
   "source": [
    "def get_unique_user_count(df: pd.DataFrame) -> int:\n",
    "    return df.size\n",
    "\n",
    "haggis = sales[sales[\"상품명\"].str.contains(\"하기스\")]\n",
    "married_sales = sales[sales[\"고객번호\"].isin(married_baby[\"고객번호\"])]\n",
    "married_sales_haggis = married_sales[married_sales[\"상품명\"].str.contains(\"하기스\")]\n",
    "\n",
    "arr = [married_sales_haggis, married_sales, haggis, sales]\n",
    "counts = list(map(get_unique_user_count, arr))\n",
    "print(counts)\n",
    "print(click_abtest(*counts))"
   ]
  },
  {
   "cell_type": "markdown",
   "metadata": {},
   "source": [
    "구매 내역 수로 해서 관련이 없는 걸까? 유저 수로 해 보자"
   ]
  },
  {
   "cell_type": "code",
   "execution_count": null,
   "metadata": {},
   "outputs": [],
   "source": [
    "haggis[\"주문번호\"].unique()"
   ]
  },
  {
   "cell_type": "code",
   "execution_count": null,
   "metadata": {},
   "outputs": [],
   "source": [
    "def get_unique_user_count(df: pd.DataFrame) -> int:\n",
    "    return df[\"주문번호\"].unique().size\n",
    "\n",
    "uniques = list(map(lambda x: get_unique_user_count(x), arr))\n",
    "print(uniques)\n",
    "print(click_abtest(*uniques))"
   ]
  },
  {
   "cell_type": "markdown",
   "metadata": {},
   "source": [
    "역시 관련이 없다.."
   ]
  },
  {
   "cell_type": "markdown",
   "metadata": {},
   "source": [
    "1-3. 체험팩?"
   ]
  },
  {
   "cell_type": "code",
   "execution_count": null,
   "metadata": {},
   "outputs": [],
   "source": [
    "sales.groupby(\"물품대분류\").count()"
   ]
  },
  {
   "cell_type": "markdown",
   "metadata": {},
   "source": [
    "체험팩이 생각보다 비중이 높은데?"
   ]
  },
  {
   "cell_type": "code",
   "execution_count": null,
   "metadata": {},
   "outputs": [],
   "source": [
    "experiments = sales[sales[\"물품대분류\"] == \"체험팩\"]\n",
    "experiments"
   ]
  },
  {
   "cell_type": "code",
   "execution_count": null,
   "metadata": {},
   "outputs": [],
   "source": [
    "plt.hist(experiments[\"구매금액\"], bins=range(0, 30000, 300))\n",
    "plt.xlabel('구매금액')\n",
    "plt.ylabel('Count')\n",
    "plt.show()"
   ]
  },
  {
   "cell_type": "code",
   "execution_count": null,
   "metadata": {},
   "outputs": [],
   "source": [
    "# Join\n",
    "joined2 = pd.merge(left=experiments, right=members.dropna(), how='inner', on=\"고객번호\")\n",
    "joined2"
   ]
  },
  {
   "cell_type": "code",
   "execution_count": null,
   "metadata": {},
   "outputs": [],
   "source": [
    "# 특정 연령층이 체험팩을 많이 샀을까?\n",
    "joined2[\"연령\"].describe()"
   ]
  },
  {
   "cell_type": "code",
   "execution_count": null,
   "metadata": {},
   "outputs": [],
   "source": [
    "plt.hist(joined2[\"연령\"], bins=range(5, 50, 1))\n",
    "plt.xlabel('Age')\n",
    "plt.ylabel('Count')\n",
    "plt.show()"
   ]
  },
  {
   "cell_type": "markdown",
   "metadata": {},
   "source": [
    "연령은 아닌 것 같다.."
   ]
  },
  {
   "cell_type": "code",
   "execution_count": null,
   "metadata": {},
   "outputs": [],
   "source": [
    "# 카테고리 변경해 가며 찾기\n",
    "joined2.groupby(\"유입경로\").count()"
   ]
  },
  {
   "cell_type": "markdown",
   "metadata": {},
   "source": [
    "## Other..."
   ]
  },
  {
   "cell_type": "code",
   "execution_count": null,
   "metadata": {},
   "outputs": [],
   "source": [
    "non_haggis = sales[~ sales[\"상품명\"].str.contains(\"하기스\")]\n",
    "non_haggis"
   ]
  },
  {
   "cell_type": "markdown",
   "metadata": {},
   "source": [
    "**문제 인지**\n",
    "- 분석 방법이 숙련되지 않아서인가?\n",
    "  - 2개 항목이 아닌 3개 이상을 엮어야 하는가?\n",
    "  - 그렇다면 데이터 프로세싱을 어떻게 해야 하는가?\n",
    "- 일단 이런 과정이 EDA인 것 자체는 맞는 것 같은데...\n",
    "- NaN, ??? 등의 비유효 데이터를 Clansing하지 않아서 그런가?\n",
    "  - 기준은? DA의 마음대로?"
   ]
  }
 ],
 "metadata": {
  "kernelspec": {
   "display_name": ".venv",
   "language": "python",
   "name": "python3"
  },
  "language_info": {
   "codemirror_mode": {
    "name": "ipython",
    "version": 3
   },
   "file_extension": ".py",
   "mimetype": "text/x-python",
   "name": "python",
   "nbconvert_exporter": "python",
   "pygments_lexer": "ipython3",
   "version": "3.9.6"
  }
 },
 "nbformat": 4,
 "nbformat_minor": 2
}
